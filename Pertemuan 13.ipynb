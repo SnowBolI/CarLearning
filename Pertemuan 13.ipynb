{
 "cells": [
  {
   "cell_type": "code",
   "execution_count": null,
   "metadata": {},
   "outputs": [],
   "source": [
    "import pickle\n",
    "import streamlit as st\n",
    "import pandas as pd\n",
    "import os\n",
    "import numpy as np\n",
    "import altair as alt\n",
    "\n",
    "model = pickle.load(open('model_prediksi_harga_mobil.sav', 'rb'))\n",
    "\n",
    "st.title('Prediksi Harga Mobil')\n",
    "\n",
    "st.header(\"Dataset\")\n",
    "#open file csv\n",
    "df1 = pd.read_csv('CarPrice.csv')\n",
    "\n",
    "brands = st.sidebar.multiselect('Show cars for brands', df1['CarName'].unique())\n",
    "df2 = df1[df1['CarName'].isin(brands)]\n",
    "st.dataframe(df2)\n",
    "\n",
    "st.write(\"Grafik Highway-mpg\")\n",
    "chart_highwaympg = pd.DataFrame(df2, columns=[\"highwaympg\"])\n",
    "st.line_chart(chart_highwaympg)\n",
    "\n",
    "st.write(\"Grafik curbweight\")\n",
    "chart_curbweight = pd.DataFrame(df2, columns=[\"curbweight\"])\n",
    "st.line_chart(chart_curbweight)\n",
    "\n",
    "st.write(\"Grafik horsepower\")\n",
    "chart_horsepower = pd.DataFrame(df2, columns=[\"horsepower\"])\n",
    "st.line_chart(chart_horsepower)\n",
    "\n",
    "#input nilai dari variable independent\n",
    "highwaympg = st.sidebar.number_input(\"Highway \", 0,10000000)\n",
    "curbweight = st.sidebar.number_input(\"Curbwight \", 0,10000000)\n",
    "horsepower = st.sidebar.number_input(\"horsepower  \", 0,10000000)\n",
    "\n",
    "if st.button('Prediksi'):\n",
    "    try:\n",
    "        #prediksi variable yang telah diinputkan \n",
    "        car_prediction = model.predict([[highwaympg, curbweight, horsepower]])\n",
    "\n",
    "        # convert ke string\n",
    "        harga_mobil_str = np.array(car_prediction)\n",
    "        harga_mobil_float = float(harga_mobil_str[0])\n",
    "\n",
    "        #tampilkan hasil prediksi\n",
    "        harga_mobil_formatted = \"{:,.2f}\".format(harga_mobil_float)\n",
    "        st.markdown(harga_mobil_formatted)\n",
    "    except Exception as e:\n",
    "        st.write(\"An error occurred: \", str(e))\n"
   ]
  }
 ],
 "metadata": {
  "kernelspec": {
   "display_name": "Python 3",
   "language": "python",
   "name": "python3"
  },
  "language_info": {
   "name": "python",
   "version": "3.11.6"
  }
 },
 "nbformat": 4,
 "nbformat_minor": 2
}
